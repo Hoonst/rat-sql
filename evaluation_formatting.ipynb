{
 "cells": [
  {
   "cell_type": "code",
   "execution_count": 1,
   "metadata": {},
   "outputs": [],
   "source": [
    "from collections import defaultdict as dd\n",
    "import os\n",
    "import json\n",
    "import sqlite3\n",
    "import ast\n",
    "import re\n",
    "from sqlite3 import Error\n",
    "from collections import Counter\n",
    "\n",
    "import sys\n",
    "sys.path.append(\"rat-sql\")"
   ]
  },
  {
   "cell_type": "code",
   "execution_count": 2,
   "metadata": {},
   "outputs": [],
   "source": [
    "def read_json(file):\n",
    "    with open(file) as json_file:\n",
    "        json_data = json.load(json_file)\n",
    "    \n",
    "    return json_data\n",
    "\n",
    "def read_jsonl(file):\n",
    "    with open(file) as json_file:\n",
    "        json_data = [json.loads(line) for line in json_file]\n",
    "    \n",
    "    return json_data"
   ]
  },
  {
   "cell_type": "code",
   "execution_count": 3,
   "metadata": {},
   "outputs": [],
   "source": [
    "exp = 'bs=12,lr=7.4e-04,bert_lr=3.0e-06,end_lr=0e0,att=1'\n",
    "ratsql_infereval_loc = f'rat-sql/logdir/bert_run/{exp}/ie_dirs/'\n",
    "ratsql_train = 'rat-sql/data/spider/train_spider.json'\n",
    "ratsql_train_others = 'rat-sql/data/spider/train_others.json'\n",
    "# step = [1] + [(5000 * x) + 100 for x in range(1, 17)] + [81000]\n",
    "step = 5100\n",
    "ratsql_infer = os.path.join(ratsql_infereval_loc, f'bert_run_true_1-step{step}.infer')\n",
    "ratsql_eval  = os.path.join(ratsql_infereval_loc, f'bert_run_true_1-step{step}.eval')"
   ]
  },
  {
   "cell_type": "code",
   "execution_count": 4,
   "metadata": {},
   "outputs": [
    {
     "data": {
      "text/plain": [
       "'rat-sql/logdir/bert_run/bs=12,lr=7.4e-04,bert_lr=3.0e-06,end_lr=0e0,att=1/ie_dirs/bert_run_true_1-step5100.infer'"
      ]
     },
     "execution_count": 4,
     "metadata": {},
     "output_type": "execute_result"
    }
   ],
   "source": [
    "ratsql_infer"
   ]
  },
  {
   "cell_type": "code",
   "execution_count": 8,
   "metadata": {},
   "outputs": [],
   "source": [
    "ratsql_eval  = os.path.join(ratsql_infereval_loc, f'bert_run_true_1-step{step}.eval')\n",
    "\n",
    "evaluation = read_jsonl(ratsql_eval)"
   ]
  },
  {
   "cell_type": "code",
   "execution_count": 22,
   "metadata": {},
   "outputs": [
    {
     "name": "stdout",
     "output_type": "stream",
     "text": [
      "{'easy': 172, 'medium': 238, 'hard': 76, 'extra': 63}\n"
     ]
    }
   ],
   "source": [
    "exact_match = {'easy': 0, 'medium': 0 , 'hard': 0, 'extra': 0}\n",
    "\n",
    "for item in evaluation[0]['per_item']:\n",
    "    # print(f\"Hardness: {item['hardness']}\")\n",
    "    # print(f\"Exact: {item['exact']}\")\n",
    "\n",
    "    if item['exact']:\n",
    "        exact_match[item['hardness']] += 1\n",
    "\n",
    "print(exact_match)"
   ]
  },
  {
   "cell_type": "code",
   "execution_count": 23,
   "metadata": {},
   "outputs": [
    {
     "data": {
      "text/plain": [
       "{'easy': 248, 'medium': 446, 'hard': 174, 'extra': 166}"
      ]
     },
     "execution_count": 23,
     "metadata": {},
     "output_type": "execute_result"
    }
   ],
   "source": [
    "for item in evaluation[0]['per_item']:\n",
    "    hardness_cnt[item['hardness']] += 1\n",
    "\n",
    "hardness_cnt"
   ]
  },
  {
   "cell_type": "code",
   "execution_count": 35,
   "metadata": {},
   "outputs": [
    {
     "name": "stdout",
     "output_type": "stream",
     "text": [
      "Step: 1 Result\n",
      "easy: 0.0\n",
      "medium: 0.0\n",
      "hard: 0.0\n",
      "extra: 0.0\n",
      "Overall: 0.0\n",
      "==============================\n",
      "Step: 5100 Result\n",
      "easy: 0.6935483870967742\n",
      "medium: 0.5336322869955157\n",
      "hard: 0.4367816091954023\n",
      "extra: 0.3795180722891566\n",
      "Overall: 0.5309477756286267\n",
      "==============================\n",
      "Step: 10100 Result\n",
      "easy: 0.7782258064516129\n",
      "medium: 0.5739910313901345\n",
      "hard: 0.4885057471264368\n",
      "extra: 0.37349397590361444\n",
      "Overall: 0.5764023210831721\n",
      "==============================\n",
      "Step: 15100 Result\n",
      "easy: 0.8225806451612904\n",
      "medium: 0.6188340807174888\n",
      "hard: 0.5459770114942529\n",
      "extra: 0.42168674698795183\n",
      "Overall: 0.6237911025145068\n",
      "==============================\n",
      "Step: 20100 Result\n",
      "easy: 0.06854838709677419\n",
      "medium: 0.03811659192825112\n",
      "hard: 0.005747126436781609\n",
      "extra: 0.012048192771084338\n",
      "Overall: 0.035783365570599614\n",
      "==============================\n",
      "Step: 25100 Result\n",
      "easy: 0.7338709677419355\n",
      "medium: 0.4798206278026906\n",
      "hard: 0.3045977011494253\n",
      "extra: 0.16265060240963855\n",
      "Overall: 0.46034816247582205\n",
      "==============================\n",
      "Step: 30100 Result\n",
      "easy: 0.7741935483870968\n",
      "medium: 0.547085201793722\n",
      "hard: 0.5114942528735632\n",
      "extra: 0.3433734939759036\n",
      "Overall: 0.562862669245648\n",
      "==============================\n",
      "Step: 35100 Result\n",
      "easy: 0.7983870967741935\n",
      "medium: 0.5852017937219731\n",
      "hard: 0.5287356321839081\n",
      "extra: 0.3674698795180723\n",
      "Overall: 0.5918762088974855\n",
      "==============================\n",
      "Step: 40100 Result\n",
      "easy: 0.8266129032258065\n",
      "medium: 0.600896860986547\n",
      "hard: 0.5344827586206896\n",
      "extra: 0.3313253012048193\n",
      "Overall: 0.6005802707930368\n",
      "==============================\n",
      "Step: 45100 Result\n",
      "easy: 0.8145161290322581\n",
      "medium: 0.6165919282511211\n",
      "hard: 0.5574712643678161\n",
      "extra: 0.39156626506024095\n",
      "Overall: 0.6179883945841392\n",
      "==============================\n",
      "Step: 50100 Result\n",
      "easy: 0.8185483870967742\n",
      "medium: 0.5919282511210763\n",
      "hard: 0.5747126436781609\n",
      "extra: 0.35542168674698793\n",
      "Overall: 0.6054158607350096\n",
      "==============================\n",
      "Step: 55100 Result\n",
      "easy: 0.8467741935483871\n",
      "medium: 0.6210762331838565\n",
      "hard: 0.5977011494252874\n",
      "extra: 0.3855421686746988\n",
      "Overall: 0.6334622823984526\n",
      "==============================\n",
      "Step: 60100 Result\n",
      "easy: 0.8387096774193549\n",
      "medium: 0.6233183856502242\n",
      "hard: 0.5919540229885057\n",
      "extra: 0.3373493975903614\n",
      "Overall: 0.6237911025145068\n",
      "==============================\n",
      "Step: 65100 Result\n",
      "easy: 0.8508064516129032\n",
      "medium: 0.6322869955156951\n",
      "hard: 0.5862068965517241\n",
      "extra: 0.37349397590361444\n",
      "Overall: 0.6353965183752418\n",
      "==============================\n",
      "Step: 70100 Result\n",
      "easy: 0.8145161290322581\n",
      "medium: 0.6233183856502242\n",
      "hard: 0.5747126436781609\n",
      "extra: 0.40963855421686746\n",
      "Overall: 0.6266924564796905\n",
      "==============================\n",
      "Step: 75100 Result\n",
      "easy: 0.8548387096774194\n",
      "medium: 0.6210762331838565\n",
      "hard: 0.5919540229885057\n",
      "extra: 0.42771084337349397\n",
      "Overall: 0.6411992263056093\n",
      "==============================\n",
      "Step: 80100 Result\n",
      "easy: 0.875\n",
      "medium: 0.6412556053811659\n",
      "hard: 0.603448275862069\n",
      "extra: 0.42168674698795183\n",
      "Overall: 0.655705996131528\n",
      "==============================\n",
      "Step: 81000 Result\n",
      "easy: 0.8629032258064516\n",
      "medium: 0.6524663677130045\n",
      "hard: 0.5977011494252874\n",
      "extra: 0.4457831325301205\n",
      "Overall: 0.660541586073501\n",
      "==============================\n"
     ]
    }
   ],
   "source": [
    "exp = 'bs=12,lr=7.4e-04,bert_lr=3.0e-06,end_lr=0e0,att=1'\n",
    "\n",
    "steps = [1] + [(5000 * x) + 100 for x in range(1, 17)] + [81000]\n",
    "step_result = {}\n",
    "for step in steps:\n",
    "    ratsql_eval  = os.path.join(ratsql_infereval_loc, f'bert_run_true_1-step{step}.eval')\n",
    "\n",
    "    evaluation = read_jsonl(ratsql_eval)\n",
    "\n",
    "    hardness_cnt = {'easy': 248, 'medium': 446, 'hard': 174, 'extra': 166}\n",
    "\n",
    "    exact_match = {'easy': 0, 'medium': 0 , 'hard': 0, 'extra': 0}\n",
    "    overall = 0\n",
    "    for item in evaluation[0]['per_item']:\n",
    "        if item['exact']:\n",
    "            exact_match[item['hardness']] += 1\n",
    "            overall += 1\n",
    "\n",
    "    print(f\"Step: {step} Result\")\n",
    "\n",
    "    step_result[step] = {}\n",
    "    for hardness in hardness_cnt.keys():\n",
    "        step_result[step][hardness] = round(exact_match[hardness] / hardness_cnt[hardness], 3) * 100\n",
    "        print(f\"{hardness}: {exact_match[hardness] / hardness_cnt[hardness]}\")\n",
    "    step_result[step]['overall'] = round(overall / 1034, 3) * 100\n",
    "\n",
    "    print(f\"Overall: {overall / 1034}\")\n",
    "\n",
    "    \n",
    "\n",
    "    print('='*30)\n",
    "\n",
    "fileName = f'{exp}_result.json'\n",
    "\n",
    "with open(fileName, 'w') as fp:\n",
    "    json.dump(step_result, fp, indent=4)"
   ]
  },
  {
   "cell_type": "code",
   "execution_count": null,
   "metadata": {},
   "outputs": [],
   "source": []
  }
 ],
 "metadata": {
  "kernelspec": {
   "display_name": "Python 3 (ipykernel)",
   "language": "python",
   "name": "python3"
  },
  "language_info": {
   "codemirror_mode": {
    "name": "ipython",
    "version": 3
   },
   "file_extension": ".py",
   "mimetype": "text/x-python",
   "name": "python",
   "nbconvert_exporter": "python",
   "pygments_lexer": "ipython3",
   "version": "3.7.7"
  },
  "orig_nbformat": 4
 },
 "nbformat": 4,
 "nbformat_minor": 2
}
