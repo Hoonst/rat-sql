{
 "cells": [
  {
   "cell_type": "code",
   "execution_count": 1,
   "metadata": {},
   "outputs": [
    {
     "name": "stderr",
     "output_type": "stream",
     "text": [
      "2022-09-16 00:34:30.085613: I tensorflow/core/util/util.cc:169] oneDNN custom operations are on. You may see slightly different numerical results due to floating-point round-off errors from different computation orders. To turn them off, set the environment variable `TF_ENABLE_ONEDNN_OPTS=0`.\n"
     ]
    }
   ],
   "source": [
    "import torch\n",
    "import sys\n",
    "sys.path.append('rat-sql')\n",
    "sys.path.append('../')\n",
    "\n",
    "import attr\n",
    "import _jsonnet\n",
    "import json \n",
    "\n",
    "from ratsql.commands.infer import Inferer\n",
    "import os\n",
    "\n",
    "os.environ[\"CUDA_VISIBLE_DEVICES\"]= \"3\"\n",
    "os.environ['TF_ENABLE_ONEDNN_OPTS'] = \"0\"\n",
    "\n",
    "os.chdir('/repo')"
   ]
  },
  {
   "cell_type": "code",
   "execution_count": 2,
   "metadata": {},
   "outputs": [],
   "source": [
    "@attr.s\n",
    "class InferConfig:\n",
    "    config = attr.ib()\n",
    "    config_args = attr.ib()\n",
    "    logdir = attr.ib()\n",
    "    section = attr.ib()\n",
    "    beam_size = attr.ib()\n",
    "    output = attr.ib()\n",
    "    step = attr.ib()\n",
    "    use_heuristic = attr.ib(default=False)\n",
    "    mode = attr.ib(default=\"infer\")\n",
    "    limit = attr.ib(default=None)\n",
    "    output_history = attr.ib(default=False)\n",
    "\n",
    "infer_config = InferConfig(config='rat-sql/configs/spider/nl2code-bert.jsonnet', \n",
    "                            config_args='{\"att\": 1, \"bert_lr\": 3e-06, \"bert_token_type\": true, \"bert_version\": \"bert-large-uncased-whole-word-masking\", \"bs\": 12, \"clause_order\": null, \"cv_link\": true, \"data_path\": \"rat-sql/data/spider/\", \"decoder_hidden_size\": 512, \"end_lr\": 0, \"end_with_from\": true, \"loss\": \"label_smooth\", \"lr\": 0.000744, \"max_steps\": 121000, \"num_batch_accumulated\": 4, \"num_layers\": 8, \"qv_link\": false, \"dist_relation\": true, \"sc_link\": true, \"summarize_header\": \"avg\", \"use_align_loss\": true, \"use_align_mat\": true, \"use_column_type\": false}', \n",
    "                            logdir='rat-sql/logdir/bert_run', \n",
    "                            section='val',\n",
    "                            beam_size=1, \n",
    "                            output='__LOGDIR__/ie_dirs/bert_run_true_1-step1.infer', \n",
    "                            step=1, use_heuristic=True, mode='infer', limit=None, output_history=False)\n"
   ]
  },
  {
   "cell_type": "code",
   "execution_count": 3,
   "metadata": {},
   "outputs": [
    {
     "name": "stderr",
     "output_type": "stream",
     "text": [
      "WARNING <class 'ratsql.models.enc_dec.EncDecModel.Preproc'>: superfluous {'name': 'EncDec'}\n"
     ]
    }
   ],
   "source": [
    "config = json.loads(_jsonnet.evaluate_file(infer_config.config, tla_codes={'args': infer_config.config_args}))\n",
    "\n",
    "inferer = Inferer(config)"
   ]
  },
  {
   "cell_type": "code",
   "execution_count": 4,
   "metadata": {},
   "outputs": [
    {
     "name": "stderr",
     "output_type": "stream",
     "text": [
      "WARNING <class 'ratsql.models.enc_dec.EncDecModel'>: superfluous {'decoder_preproc': {'grammar': {'clause_order': None, 'end_with_from': True, 'factorize_sketch': 2, 'include_literals': False, 'infer_from_conditions': True, 'name': 'spider', 'output_from': True, 'use_table_pointer': True}, 'save_path': 'rat-sql/data/spider/nl2code,output_from=true,fs=2,emb=bert,cvlink', 'use_seq_elem_rules': True}, 'encoder_preproc': {'bert_version': 'bert-large-uncased-whole-word-masking', 'compute_cv_link': True, 'compute_sc_link': True, 'db_path': 'rat-sql/data/spider/database', 'fix_issue_16_primary_keys': True, 'include_table_name_in_column': False, 'save_path': 'rat-sql/data/spider/nl2code,output_from=true,fs=2,emb=bert,cvlink'}}\n"
     ]
    },
    {
     "name": "stdout",
     "output_type": "stream",
     "text": [
      "Used Relations: 51\n"
     ]
    },
    {
     "name": "stderr",
     "output_type": "stream",
     "text": [
      "Some weights of the model checkpoint at bert-large-uncased-whole-word-masking were not used when initializing BertModel: ['cls.seq_relationship.weight', 'cls.predictions.bias', 'cls.seq_relationship.bias', 'cls.predictions.transform.dense.weight', 'cls.predictions.decoder.weight', 'cls.predictions.transform.LayerNorm.weight', 'cls.predictions.transform.dense.bias', 'cls.predictions.transform.LayerNorm.bias']\n",
      "- This IS expected if you are initializing BertModel from the checkpoint of a model trained on another task or with another architecture (e.g. initializing a BertForSequenceClassification model from a BertForPreTraining model).\n",
      "- This IS NOT expected if you are initializing BertModel from the checkpoint of a model that you expect to be exactly identical (initializing a BertForSequenceClassification model from a BertForSequenceClassification model).\n"
     ]
    },
    {
     "name": "stdout",
     "output_type": "stream",
     "text": [
      "Loading model from rat-sql/logdir/bert_run/bs=12,lr=7.4e-04,bert_lr=3.0e-06,loss=label_smooth,qv_link=false,dist=true/model_checkpoint-00010100\n"
     ]
    }
   ],
   "source": [
    "logdir = os.path.join(infer_config.logdir, config['model_name'])\n",
    "step = 10100\n",
    "\n",
    "model = inferer.load_model(logdir, step)"
   ]
  },
  {
   "cell_type": "code",
   "execution_count": 5,
   "metadata": {},
   "outputs": [],
   "source": [
    "relation_k_emb_7 = model.state_dict()['encoder.encs_update.encoder.layers.7.relation_k_emb.weight']"
   ]
  },
  {
   "cell_type": "code",
   "execution_count": 6,
   "metadata": {},
   "outputs": [],
   "source": [
    "from torch.utils.tensorboard import SummaryWriter\n",
    "\n",
    "\n",
    "# 기본 `log_dir` 은 \"runs\"이며, 여기서는 더 구체적으로 지정하였습니다\n",
    "writer = SummaryWriter('rat-sql/tf_runs/ratsql_embedding_vis')"
   ]
  },
  {
   "cell_type": "code",
   "execution_count": 7,
   "metadata": {},
   "outputs": [],
   "source": [
    "relation_index = {('qq_dist', -2): 0,\n",
    "('qq_dist', -1): 1,\n",
    "('qq_dist', 0): 2,\n",
    "('qq_dist', 1): 3,\n",
    "('qq_dist', 2): 4,\n",
    "'qc_default': 5,\n",
    "'qt_default': 6,\n",
    "'cq_default': 7,\n",
    "'cc_default': 8,\n",
    "'cc_foreign_key_forward': 9,\n",
    "'cc_foreign_key_backward': 10,\n",
    "'cc_table_match': 11,\n",
    "('cc_dist', -2): 12,\n",
    "('cc_dist', -1): 13,\n",
    "('cc_dist', 0): 14,\n",
    "('cc_dist', 1): 15,\n",
    "('cc_dist', 2): 16,\n",
    "'ct_default': 17,\n",
    "'ct_foreign_key': 18,\n",
    "'ct_primary_key': 19,\n",
    "'ct_table_match': 20,\n",
    "'ct_any_table': 21,\n",
    "'tq_default': 22,\n",
    "'tc_default': 23,\n",
    "'tc_primary_key': 24,\n",
    "'tc_table_match': 25,\n",
    "'tc_any_table': 26,\n",
    "'tc_foreign_key': 27,\n",
    "'tt_default': 28,\n",
    "'tt_foreign_key_forward': 29,\n",
    "'tt_foreign_key_backward': 30,\n",
    "'tt_foreign_key_both': 31,\n",
    "('tt_dist', -2): 32,\n",
    "('tt_dist', -1): 33,\n",
    "('tt_dist', 0): 34,\n",
    "('tt_dist', 1): 35,\n",
    "('tt_dist', 2): 36,\n",
    "'qcCEM': 37,\n",
    "'cqCEM': 38,\n",
    "'qtTEM': 39,\n",
    "'tqTEM': 40,\n",
    "'qcCPM': 41,\n",
    "'cqCPM': 42,\n",
    "'qtTPM': 43,\n",
    "'tqTPM': 44,\n",
    "'qcNUMBER': 45,\n",
    "'cqNUMBER': 46,\n",
    "'qcTIME': 47,\n",
    "'cqTIME': 48,\n",
    "'qcCELLMATCH': 49,\n",
    "'cqCELLMATCH': 50}"
   ]
  },
  {
   "cell_type": "code",
   "execution_count": 8,
   "metadata": {},
   "outputs": [],
   "source": [
    "relation_index_list = relation_index.keys()"
   ]
  },
  {
   "cell_type": "code",
   "execution_count": 9,
   "metadata": {},
   "outputs": [
    {
     "name": "stdout",
     "output_type": "stream",
     "text": [
      "warning: Embedding dir exists, did you set global_step for add_embedding()?\n"
     ]
    }
   ],
   "source": [
    "import tensorflow as tf\n",
    "import tensorboard as tb\n",
    "tf.io.gfile = tb.compat.tensorflow_stub.io.gfile\n",
    "\n",
    "writer.add_embedding(relation_k_emb_7,\n",
    "                    metadata=relation_index_list)"
   ]
  },
  {
   "cell_type": "code",
   "execution_count": 10,
   "metadata": {},
   "outputs": [
    {
     "name": "stderr",
     "output_type": "stream",
     "text": [
      "2022-09-16 00:34:56.977884: W tensorflow/stream_executor/platform/default/dso_loader.cc:64] Could not load dynamic library 'libcublas.so.11'; dlerror: libcublas.so.11: cannot open shared object file: No such file or directory; LD_LIBRARY_PATH: /usr/local/nvidia/lib:/usr/local/nvidia/lib64\n",
      "2022-09-16 00:34:56.978029: W tensorflow/stream_executor/platform/default/dso_loader.cc:64] Could not load dynamic library 'libcublasLt.so.11'; dlerror: libcublasLt.so.11: cannot open shared object file: No such file or directory; LD_LIBRARY_PATH: /usr/local/nvidia/lib:/usr/local/nvidia/lib64\n",
      "2022-09-16 00:34:56.990682: W tensorflow/stream_executor/platform/default/dso_loader.cc:64] Could not load dynamic library 'libcusolver.so.11'; dlerror: libcusolver.so.11: cannot open shared object file: No such file or directory; LD_LIBRARY_PATH: /usr/local/nvidia/lib:/usr/local/nvidia/lib64\n",
      "2022-09-16 00:34:56.990770: W tensorflow/stream_executor/platform/default/dso_loader.cc:64] Could not load dynamic library 'libcusparse.so.11'; dlerror: libcusparse.so.11: cannot open shared object file: No such file or directory; LD_LIBRARY_PATH: /usr/local/nvidia/lib:/usr/local/nvidia/lib64\n",
      "2022-09-16 00:34:56.990852: W tensorflow/stream_executor/platform/default/dso_loader.cc:64] Could not load dynamic library 'libcudnn.so.8'; dlerror: libcudnn.so.8: cannot open shared object file: No such file or directory; LD_LIBRARY_PATH: /usr/local/nvidia/lib:/usr/local/nvidia/lib64\n",
      "2022-09-16 00:34:56.990864: W tensorflow/core/common_runtime/gpu/gpu_device.cc:1850] Cannot dlopen some GPU libraries. Please make sure the missing libraries mentioned above are installed properly if you would like to use GPU. Follow the guide at https://www.tensorflow.org/install/gpu for how to download and setup the required libraries for your platform.\n",
      "Skipping registering GPU devices...\n",
      "2022-09-16 00:34:56.991637: I tensorflow/core/platform/cpu_feature_guard.cc:193] This TensorFlow binary is optimized with oneAPI Deep Neural Network Library (oneDNN) to use the following CPU instructions in performance-critical operations:  AVX2 AVX512F AVX512_VNNI FMA\n",
      "To enable them in other operations, rebuild TensorFlow with the appropriate compiler flags.\n"
     ]
    }
   ],
   "source": [
    "import os\n",
    "import tensorflow as tf\n",
    "# import tensorflow_datasets as tfds\n",
    "from tensorboard.plugins import projector\n",
    "\n",
    "# Set up a logs directory, so Tensorboard knows where to look for files.\n",
    "log_dir='rat-sql/tf_runs/relation_emb_vis/'\n",
    "if not os.path.exists(log_dir):\n",
    "    os.makedirs(log_dir)\n",
    "\n",
    "# Save Labels separately on a line-by-line manner.\n",
    "with open(os.path.join(log_dir, 'metadata.tsv'), \"w\") as f:\n",
    "  for key in relation_index_list:\n",
    "    f.write(\"{}\\n\".format(key))\n",
    "  # Fill in the rest of the labels with \"unknown\".\n",
    "\n",
    "\n",
    "# Save the weights we want to analyze as a variable. Note that the first\n",
    "# value represents any unknown word, which is not in the metadata, here\n",
    "# we will remove this value.\n",
    "weights = tf.Variable(relation_k_emb_7.cpu())\n",
    "# Create a checkpoint from embedding, the filename and key are the\n",
    "# name of the tensor.\n",
    "checkpoint = tf.train.Checkpoint(embedding=weights)\n",
    "checkpoint.save(os.path.join(log_dir, \"embedding.ckpt\"))\n",
    "\n",
    "# Set up config.\n",
    "config = projector.ProjectorConfig()\n",
    "embedding = config.embeddings.add()\n",
    "# The name of the tensor will be suffixed by `/.ATTRIBUTES/VARIABLE_VALUE`.\n",
    "embedding.tensor_name = \"embedding/.ATTRIBUTES/VARIABLE_VALUE\"\n",
    "embedding.metadata_path = 'metadata.tsv'\n",
    "projector.visualize_embeddings(log_dir, config)"
   ]
  },
  {
   "cell_type": "code",
   "execution_count": 11,
   "metadata": {},
   "outputs": [
    {
     "name": "stdout",
     "output_type": "stream",
     "text": [
      "2022-09-16 00:34:58.744357: W tensorflow/stream_executor/platform/default/dso_loader.cc:64] Could not load dynamic library 'libcudart.so.11.0'; dlerror: libcudart.so.11.0: cannot open shared object file: No such file or directory; LD_LIBRARY_PATH: /usr/local/nvidia/lib:/usr/local/nvidia/lib64\n",
      "2022-09-16 00:34:58.744402: I tensorflow/stream_executor/cuda/cudart_stub.cc:29] Ignore above cudart dlerror if you do not have a GPU set up on your machine.\n",
      "2022-09-16 00:35:00.649861: W tensorflow/stream_executor/platform/default/dso_loader.cc:64] Could not load dynamic library 'libcudart.so.11.0'; dlerror: libcudart.so.11.0: cannot open shared object file: No such file or directory; LD_LIBRARY_PATH: /usr/local/nvidia/lib:/usr/local/nvidia/lib64\n",
      "2022-09-16 00:35:00.649965: W tensorflow/stream_executor/platform/default/dso_loader.cc:64] Could not load dynamic library 'libcublas.so.11'; dlerror: libcublas.so.11: cannot open shared object file: No such file or directory; LD_LIBRARY_PATH: /usr/local/nvidia/lib:/usr/local/nvidia/lib64\n",
      "2022-09-16 00:35:00.650035: W tensorflow/stream_executor/platform/default/dso_loader.cc:64] Could not load dynamic library 'libcublasLt.so.11'; dlerror: libcublasLt.so.11: cannot open shared object file: No such file or directory; LD_LIBRARY_PATH: /usr/local/nvidia/lib:/usr/local/nvidia/lib64\n",
      "2022-09-16 00:35:00.652743: W tensorflow/stream_executor/platform/default/dso_loader.cc:64] Could not load dynamic library 'libcusolver.so.11'; dlerror: libcusolver.so.11: cannot open shared object file: No such file or directory; LD_LIBRARY_PATH: /usr/local/nvidia/lib:/usr/local/nvidia/lib64\n",
      "2022-09-16 00:35:00.652835: W tensorflow/stream_executor/platform/default/dso_loader.cc:64] Could not load dynamic library 'libcusparse.so.11'; dlerror: libcusparse.so.11: cannot open shared object file: No such file or directory; LD_LIBRARY_PATH: /usr/local/nvidia/lib:/usr/local/nvidia/lib64\n",
      "2022-09-16 00:35:00.652910: W tensorflow/stream_executor/platform/default/dso_loader.cc:64] Could not load dynamic library 'libcudnn.so.8'; dlerror: libcudnn.so.8: cannot open shared object file: No such file or directory; LD_LIBRARY_PATH: /usr/local/nvidia/lib:/usr/local/nvidia/lib64\n",
      "2022-09-16 00:35:00.652929: W tensorflow/core/common_runtime/gpu/gpu_device.cc:1850] Cannot dlopen some GPU libraries. Please make sure the missing libraries mentioned above are installed properly if you would like to use GPU. Follow the guide at https://www.tensorflow.org/install/gpu for how to download and setup the required libraries for your platform.\n",
      "Skipping registering GPU devices...\n",
      "\n",
      "NOTE: Using experimental fast data loading logic. To disable, pass\n",
      "    \"--load_fast=false\" and report issues on GitHub. More details:\n",
      "    https://github.com/tensorflow/tensorboard/issues/4784\n",
      "\n",
      "TensorBoard 2.9.0 at http://0.0.0.0:6066/ (Press CTRL+C to quit)\n",
      "W0916 00:37:21.525925 140575419971328 application.py:556] path /api/kernelspecs not found, sending 404\n",
      "W0916 00:38:36.917775 140575419971328 application.py:556] path /api/sessions not found, sending 404\n",
      "W0916 00:39:40.593089 140575419971328 application.py:556] path /api/kernels not found, sending 404\n",
      "W0916 00:39:56.541635 140575419971328 application.py:556] path /api/kernels not found, sending 404\n",
      "W0916 00:40:25.892100 140575419971328 application.py:556] path /api/kernels not found, sending 404\n",
      "W0916 00:41:03.447271 140575419971328 application.py:556] path /api/kernels not found, sending 404\n",
      "W0916 00:42:16.592173 140575419971328 application.py:556] path /api/kernels not found, sending 404\n",
      "W0916 00:42:21.532342 140575419971328 application.py:556] path /api/kernelspecs not found, sending 404\n",
      "W0916 00:43:36.922779 140575419971328 application.py:556] path /api/sessions not found, sending 404\n",
      "W0916 00:45:27.867718 140575419971328 application.py:556] path /api/kernels not found, sending 404\n",
      "W0916 00:47:21.538235 140575419971328 application.py:556] path /api/kernelspecs not found, sending 404\n",
      "W0916 00:48:02.824220 140575419971328 application.py:556] path /api/kernels not found, sending 404\n",
      "W0916 00:48:36.927858 140575419971328 application.py:556] path /api/sessions not found, sending 404\n",
      "W0916 00:48:42.161877 140575419971328 application.py:556] path /api/kernelspecs not found, sending 404\n",
      "W0916 00:51:38.315423 140575419971328 application.py:556] path /api/kernelspecs not found, sending 404\n",
      "W0916 00:53:02.828986 140575419971328 application.py:556] path /api/kernels not found, sending 404\n",
      "W0916 00:53:36.932494 140575419971328 application.py:556] path /api/sessions not found, sending 404\n",
      "W0916 00:55:11.646794 140575419971328 application.py:556] path /api/kernels not found, sending 404\n",
      "W0916 00:56:38.321057 140575419971328 application.py:556] path /api/kernelspecs not found, sending 404\n",
      "W0916 00:56:38.322577 140575436756736 application.py:556] path /api/kernels not found, sending 404\n",
      "W0916 00:57:53.384639 140575436756736 application.py:556] path /api/kernels not found, sending 404\n",
      "W0916 00:58:13.325165 140575436756736 application.py:556] path /api/kernels not found, sending 404\n",
      "W0916 00:58:36.938036 140575436756736 application.py:556] path /api/sessions not found, sending 404\n",
      "W0916 00:58:47.744687 140575436756736 application.py:556] path /api/kernels not found, sending 404\n",
      "W0916 00:59:41.008076 140575436756736 application.py:556] path /api/kernels not found, sending 404\n",
      "W0916 01:01:22.040941 140575436756736 application.py:556] path /api/kernels not found, sending 404\n",
      "W0916 01:01:38.328544 140575436756736 application.py:556] path /api/kernelspecs not found, sending 404\n",
      "W0916 01:02:10.080741 140575436756736 application.py:556] path /api/sessions not found, sending 404\n",
      "^C\n"
     ]
    }
   ],
   "source": [
    "!tensorboard --logdir=rat-sql/tf_runs/relation_emb_vis --port 6066 --host=0.0.0.0"
   ]
  },
  {
   "cell_type": "code",
   "execution_count": null,
   "metadata": {},
   "outputs": [],
   "source": []
  }
 ],
 "metadata": {
  "kernelspec": {
   "display_name": "Python 3 (ipykernel)",
   "language": "python",
   "name": "python3"
  },
  "language_info": {
   "codemirror_mode": {
    "name": "ipython",
    "version": 3
   },
   "file_extension": ".py",
   "mimetype": "text/x-python",
   "name": "python",
   "nbconvert_exporter": "python",
   "pygments_lexer": "ipython3",
   "version": "3.7.7"
  },
  "orig_nbformat": 4
 },
 "nbformat": 4,
 "nbformat_minor": 2
}
