{
 "cells": [
  {
   "cell_type": "code",
   "execution_count": 1,
   "metadata": {},
   "outputs": [],
   "source": [
    "import torch\n",
    "import sys\n",
    "sys.path.append('rat-sql')\n",
    "\n",
    "import attr\n",
    "import _jsonnet\n",
    "import json \n",
    "\n",
    "from ratsql.commands.infer import Inferer\n",
    "import os"
   ]
  },
  {
   "cell_type": "code",
   "execution_count": 2,
   "metadata": {},
   "outputs": [
    {
     "data": {
      "text/plain": [
       "'rat-sql/logdir/bert_run/bs=12,lr=7.4e-04,bert_lr=3.0e-06,end_lr=0e0,att=1,loss=softmax,qv_link=false/model_checkpoint-00080100'"
      ]
     },
     "execution_count": 2,
     "metadata": {},
     "output_type": "execute_result"
    }
   ],
   "source": [
    "ckpt_folder = 'rat-sql/logdir/bert_run/bs=12,lr=7.4e-04,bert_lr=3.0e-06,end_lr=0e0,att=1,loss=softmax,qv_link=false'\n",
    "ckpt_num = '80100'\n",
    "\n",
    "ckpt = ckpt_folder + f'/model_checkpoint-000{ckpt_num}'\n",
    "ckpt"
   ]
  },
  {
   "cell_type": "code",
   "execution_count": 3,
   "metadata": {},
   "outputs": [],
   "source": [
    "@attr.s\n",
    "class InferConfig:\n",
    "    config = attr.ib()\n",
    "    config_args = attr.ib()\n",
    "    logdir = attr.ib()\n",
    "    section = attr.ib()\n",
    "    beam_size = attr.ib()\n",
    "    output = attr.ib()\n",
    "    step = attr.ib()\n",
    "    use_heuristic = attr.ib(default=False)\n",
    "    mode = attr.ib(default=\"infer\")\n",
    "    limit = attr.ib(default=None)\n",
    "    output_history = attr.ib(default=False)\n",
    "\n",
    "infer_config = InferConfig(config='rat-sql/configs/spider/nl2code-bert.jsonnet', \n",
    "                            config_args='{\"att\": 1, \"bert_lr\": 3e-06, \"bert_token_type\": true, \"bert_version\": \"bert-large-uncased-whole-word-masking\", \"bs\": 12, \"clause_order\": null, \"cv_link\": true, \"data_path\": \"rat-sql/data/spider/\", \"decoder_hidden_size\": 512, \"end_lr\": 0, \"end_with_from\": true, \"loss\": \"softmax\", \"lr\": 0.000744, \"max_steps\": 121000, \"num_batch_accumulated\": 4, \"num_layers\": 8, \"qv_link\": false, \"sc_link\": true, \"summarize_header\": \"avg\", \"use_align_loss\": true, \"use_align_mat\": true, \"use_column_type\": false}', \n",
    "                            logdir='rat-sql/logdir/bert_run', \n",
    "                            section='val',\n",
    "                            beam_size=1, \n",
    "                            output='__LOGDIR__/ie_dirs/bert_run_true_1-step1.infer', \n",
    "                            step=1, use_heuristic=True, mode='infer', limit=None, output_history=False)\n"
   ]
  },
  {
   "cell_type": "code",
   "execution_count": 4,
   "metadata": {},
   "outputs": [
    {
     "name": "stderr",
     "output_type": "stream",
     "text": [
      "WARNING <class 'ratsql.models.enc_dec.EncDecModel.Preproc'>: superfluous {'name': 'EncDec'}\n"
     ]
    }
   ],
   "source": [
    "config = json.loads(_jsonnet.evaluate_file(infer_config.config, tla_codes={'args': infer_config.config_args}))\n",
    "\n",
    "inferer = Inferer(config)"
   ]
  },
  {
   "cell_type": "code",
   "execution_count": 5,
   "metadata": {},
   "outputs": [],
   "source": [
    "os.environ[\"CUDA_VISIBLE_DEVICES\"]= \"4\""
   ]
  },
  {
   "cell_type": "code",
   "execution_count": 6,
   "metadata": {},
   "outputs": [
    {
     "name": "stderr",
     "output_type": "stream",
     "text": [
      "WARNING <class 'ratsql.models.enc_dec.EncDecModel'>: superfluous {'decoder_preproc': {'grammar': {'clause_order': None, 'end_with_from': True, 'factorize_sketch': 2, 'include_literals': False, 'infer_from_conditions': True, 'name': 'spider', 'output_from': True, 'use_table_pointer': True}, 'save_path': 'rat-sql/data/spider/nl2code,output_from=true,fs=2,emb=bert,cvlink', 'use_seq_elem_rules': True}, 'encoder_preproc': {'bert_version': 'bert-large-uncased-whole-word-masking', 'compute_cv_link': True, 'compute_sc_link': True, 'db_path': 'rat-sql/data/spider/database', 'fix_issue_16_primary_keys': True, 'include_table_name_in_column': False, 'save_path': 'rat-sql/data/spider/nl2code,output_from=true,fs=2,emb=bert,cvlink'}}\n",
      "Some weights of the model checkpoint at bert-large-uncased-whole-word-masking were not used when initializing BertModel: ['cls.predictions.decoder.weight', 'cls.seq_relationship.weight', 'cls.predictions.transform.LayerNorm.bias', 'cls.predictions.transform.dense.bias', 'cls.predictions.transform.LayerNorm.weight', 'cls.predictions.bias', 'cls.predictions.transform.dense.weight', 'cls.seq_relationship.bias']\n",
      "- This IS expected if you are initializing BertModel from the checkpoint of a model trained on another task or with another architecture (e.g. initializing a BertForSequenceClassification model from a BertForPreTraining model).\n",
      "- This IS NOT expected if you are initializing BertModel from the checkpoint of a model that you expect to be exactly identical (initializing a BertForSequenceClassification model from a BertForSequenceClassification model).\n"
     ]
    },
    {
     "name": "stdout",
     "output_type": "stream",
     "text": [
      "Loading model from rat-sql/logdir/bert_run/bs=12,lr=7.4e-04,bert_lr=3.0e-06,end_lr=0e0,att=1,loss=softmax,qv_link=false/model_checkpoint-00005100\n"
     ]
    }
   ],
   "source": [
    "logdir = os.path.join(infer_config.logdir, config['model_name'])\n",
    "step = 5100\n",
    "\n",
    "model = inferer.load_model(logdir, step)"
   ]
  },
  {
   "cell_type": "code",
   "execution_count": null,
   "metadata": {},
   "outputs": [],
   "source": []
  }
 ],
 "metadata": {
  "kernelspec": {
   "display_name": "Python 3 (ipykernel)",
   "language": "python",
   "name": "python3"
  },
  "language_info": {
   "codemirror_mode": {
    "name": "ipython",
    "version": 3
   },
   "file_extension": ".py",
   "mimetype": "text/x-python",
   "name": "python",
   "nbconvert_exporter": "python",
   "pygments_lexer": "ipython3",
   "version": "3.7.7"
  },
  "orig_nbformat": 4
 },
 "nbformat": 4,
 "nbformat_minor": 2
}
