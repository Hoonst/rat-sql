{
 "cells": [
  {
   "cell_type": "code",
   "execution_count": 1,
   "metadata": {},
   "outputs": [],
   "source": [
    "import json\n",
    "from ratsql.utils import registry\n",
    "\n",
    "\n",
    "def read_json(file):\n",
    "    with open(file) as json_file:\n",
    "        json_data = json.load(json_file)\n",
    "    \n",
    "    return json_data\n",
    "\n",
    "def read_jsonl(file):\n",
    "    with open(file) as json_file:\n",
    "        json_data = [json.loads(line) for line in json_file]\n",
    "    \n",
    "    return json_data"
   ]
  },
  {
   "cell_type": "code",
   "execution_count": 3,
   "metadata": {},
   "outputs": [],
   "source": [
    "spider_data_loc = 'data/spider/nl2code,output_from=true,fs=2,emb=bert,cvlink/dec/train.jsonl'\n",
    "\n",
    "spider_train_dec = read_jsonl(spider_data_loc)"
   ]
  },
  {
   "cell_type": "code",
   "execution_count": 11,
   "metadata": {},
   "outputs": [
    {
     "data": {
      "text/plain": [
       "{'from': {'table_units': [['table_unit', 1]], 'conds': []},\n",
       " 'select': [False,\n",
       "  [[0, [0, [0, 8, False], None]],\n",
       "   [0, [0, [0, 9, False], None]],\n",
       "   [0, [0, [0, 10, False], None]]]],\n",
       " 'where': [],\n",
       " 'groupBy': [],\n",
       " 'having': [],\n",
       " 'orderBy': ['asc', [[0, [0, 10, False], None]]],\n",
       " 'limit': None,\n",
       " 'intersect': None,\n",
       " 'union': None,\n",
       " 'except': None}"
      ]
     },
     "execution_count": 11,
     "metadata": {},
     "output_type": "execute_result"
    }
   ],
   "source": [
    "spider_train_dec[1]['orig_code']"
   ]
  },
  {
   "cell_type": "code",
   "execution_count": 10,
   "metadata": {},
   "outputs": [
    {
     "data": {
      "text/plain": [
       "{'_type': 'sql',\n",
       " 'select': {'_type': 'select',\n",
       "  'is_distinct': False,\n",
       "  'aggs': [{'_type': 'agg',\n",
       "    'agg_id': {'_type': 'Count'},\n",
       "    'val_unit': {'_type': 'Column',\n",
       "     'col_unit1': {'_type': 'col_unit',\n",
       "      'agg_id': {'_type': 'NoneAggOp'},\n",
       "      'is_distinct': False,\n",
       "      'col_id': 0}}}]},\n",
       " 'from': {'_type': 'from', 'table_units': [{'_type': 'Table', 'table_id': 1}]},\n",
       " 'sql_where': {'_type': 'sql_where',\n",
       "  'where': {'_type': 'Gt',\n",
       "   'val_unit': {'_type': 'Column',\n",
       "    'col_unit1': {'_type': 'col_unit',\n",
       "     'agg_id': {'_type': 'NoneAggOp'},\n",
       "     'is_distinct': False,\n",
       "     'col_id': 10}},\n",
       "   'val1': {'_type': 'Terminal'}}},\n",
       " 'sql_groupby': {'_type': 'sql_groupby'},\n",
       " 'sql_orderby': {'_type': 'sql_orderby', 'limit': False},\n",
       " 'sql_ieu': {'_type': 'sql_ieu'}}"
      ]
     },
     "execution_count": 10,
     "metadata": {},
     "output_type": "execute_result"
    }
   ],
   "source": [
    "spider_train_dec[0]['tree']"
   ]
  },
  {
   "cell_type": "code",
   "execution_count": 14,
   "metadata": {},
   "outputs": [
    {
     "data": {
      "text/plain": [
       "{'_type': 'sql',\n",
       " 'select': {'_type': 'select',\n",
       "  'is_distinct': False,\n",
       "  'aggs': [{'_type': 'agg',\n",
       "    'agg_id': {'_type': 'Count'},\n",
       "    'val_unit': {'_type': 'Column',\n",
       "     'col_unit1': {'_type': 'col_unit',\n",
       "      'agg_id': {'_type': 'NoneAggOp'},\n",
       "      'is_distinct': False,\n",
       "      'col_id': 0}}}]},\n",
       " 'from': {'_type': 'from', 'table_units': [{'_type': 'Table', 'table_id': 1}]},\n",
       " 'sql_where': {'_type': 'sql_where',\n",
       "  'where': {'_type': 'Gt',\n",
       "   'val_unit': {'_type': 'Column',\n",
       "    'col_unit1': {'_type': 'col_unit',\n",
       "     'agg_id': {'_type': 'NoneAggOp'},\n",
       "     'is_distinct': False,\n",
       "     'col_id': 10}},\n",
       "   'val1': {'_type': 'Terminal'}}},\n",
       " 'sql_groupby': {'_type': 'sql_groupby'},\n",
       " 'sql_orderby': {'_type': 'sql_orderby', 'limit': False},\n",
       " 'sql_ieu': {'_type': 'sql_ieu'}}"
      ]
     },
     "execution_count": 14,
     "metadata": {},
     "output_type": "execute_result"
    }
   ],
   "source": [
    "{'_type': 'sql', 'select': {'_type': 'select', 'is_distinct': False, 'aggs': [{'_type': 'agg', 'agg_id': {'_type': 'Count'}, 'val_unit': {'_type': 'Column', 'col_unit1': {'_type': 'col_unit', 'agg_id': {'_type': 'NoneAggOp'}, 'is_distinct': False, 'col_id': 0}}}]}, 'from': {'_type': 'from', 'table_units': [{'_type': 'Table', 'table_id': 1}]}, 'sql_where': {'_type': 'sql_where', 'where': {'_type': 'Gt', 'val_unit': {'_type': 'Column', 'col_unit1': {'_type': 'col_unit', 'agg_id': {'_type': 'NoneAggOp'}, 'is_distinct': False, 'col_id': 10}}, 'val1': {'_type': 'Terminal'}}}, 'sql_groupby': {'_type': 'sql_groupby'}, 'sql_orderby': {'_type': 'sql_orderby', 'limit': False}, 'sql_ieu': {'_type': 'sql_ieu'}}"
   ]
  },
  {
   "cell_type": "code",
   "execution_count": null,
   "metadata": {},
   "outputs": [],
   "source": []
  }
 ],
 "metadata": {
  "kernelspec": {
   "display_name": "Python 3 (ipykernel)",
   "language": "python",
   "name": "python3"
  },
  "language_info": {
   "codemirror_mode": {
    "name": "ipython",
    "version": 3
   },
   "file_extension": ".py",
   "mimetype": "text/x-python",
   "name": "python",
   "nbconvert_exporter": "python",
   "pygments_lexer": "ipython3",
   "version": "3.7.7"
  },
  "orig_nbformat": 4
 },
 "nbformat": 4,
 "nbformat_minor": 2
}
